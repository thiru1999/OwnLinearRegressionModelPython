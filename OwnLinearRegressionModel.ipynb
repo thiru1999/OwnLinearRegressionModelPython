{
 "cells": [
  {
   "cell_type": "code",
   "execution_count": 1,
   "id": "d7c33bb5",
   "metadata": {},
   "outputs": [],
   "source": [
    "import pandas as pd\n",
    "import numpy as np \n",
    "import matplotlib.pyplot as plt \n",
    "import seaborn as sns\n"
   ]
  },
  {
   "cell_type": "code",
   "execution_count": 3,
   "id": "8473c743",
   "metadata": {},
   "outputs": [],
   "source": [
    "path = \"tvmarketing.csv\"\n",
    "adv = pd.read_csv(path)"
   ]
  },
  {
   "cell_type": "code",
   "execution_count": 4,
   "id": "683467ff",
   "metadata": {},
   "outputs": [
    {
     "data": {
      "text/html": [
       "<div>\n",
       "<style scoped>\n",
       "    .dataframe tbody tr th:only-of-type {\n",
       "        vertical-align: middle;\n",
       "    }\n",
       "\n",
       "    .dataframe tbody tr th {\n",
       "        vertical-align: top;\n",
       "    }\n",
       "\n",
       "    .dataframe thead th {\n",
       "        text-align: right;\n",
       "    }\n",
       "</style>\n",
       "<table border=\"1\" class=\"dataframe\">\n",
       "  <thead>\n",
       "    <tr style=\"text-align: right;\">\n",
       "      <th></th>\n",
       "      <th>TV</th>\n",
       "      <th>Sales</th>\n",
       "    </tr>\n",
       "  </thead>\n",
       "  <tbody>\n",
       "    <tr>\n",
       "      <th>0</th>\n",
       "      <td>230.1</td>\n",
       "      <td>22.1</td>\n",
       "    </tr>\n",
       "    <tr>\n",
       "      <th>1</th>\n",
       "      <td>44.5</td>\n",
       "      <td>10.4</td>\n",
       "    </tr>\n",
       "    <tr>\n",
       "      <th>2</th>\n",
       "      <td>17.2</td>\n",
       "      <td>9.3</td>\n",
       "    </tr>\n",
       "    <tr>\n",
       "      <th>3</th>\n",
       "      <td>151.5</td>\n",
       "      <td>18.5</td>\n",
       "    </tr>\n",
       "    <tr>\n",
       "      <th>4</th>\n",
       "      <td>180.8</td>\n",
       "      <td>12.9</td>\n",
       "    </tr>\n",
       "  </tbody>\n",
       "</table>\n",
       "</div>"
      ],
      "text/plain": [
       "      TV  Sales\n",
       "0  230.1   22.1\n",
       "1   44.5   10.4\n",
       "2   17.2    9.3\n",
       "3  151.5   18.5\n",
       "4  180.8   12.9"
      ]
     },
     "execution_count": 4,
     "metadata": {},
     "output_type": "execute_result"
    }
   ],
   "source": [
    "adv.head()"
   ]
  },
  {
   "cell_type": "code",
   "execution_count": 5,
   "id": "1c37aebb",
   "metadata": {},
   "outputs": [
    {
     "data": {
      "text/plain": [
       "<AxesSubplot:xlabel='TV', ylabel='Sales'>"
      ]
     },
     "execution_count": 5,
     "metadata": {},
     "output_type": "execute_result"
    },
    {
     "data": {
      "image/png": "[encoded data removed]",
      "text/plain": [
       "<Figure size 640x480 with 1 Axes>"
      ]
     },
     "metadata": {},
     "output_type": "display_data"
    }
   ],
   "source": [
    "adv.plot(x='TV',y='Sales',kind='scatter',c='black')"
   ]
  },
  {
   "cell_type": "code",
   "execution_count": 6,
   "id": "c38d6dab",
   "metadata": {},
   "outputs": [
    {
     "name": "stderr",
     "output_type": "stream",
     "text": [
      "C:\\Users\\Z004K1SD\\Anaconda3\\lib\\site-packages\\numpy\\core\\fromnumeric.py:3438: FutureWarning: In a future version, DataFrame.mean(axis=None) will return a scalar mean over the entire DataFrame. To retain the old behavior, use 'frame.mean(axis=0)' or just 'frame.mean()'\n",
      "  return mean(axis=axis, dtype=dtype, out=out, **kwargs)\n"
     ]
    }
   ],
   "source": [
    "advNorm=(adv-np.mean(adv))/np.std(adv)"
   ]
  },
  {
   "cell_type": "code",
   "execution_count": 7,
   "id": "a93282ae",
   "metadata": {},
   "outputs": [
    {
     "data": {
      "text/html": [
       "<div>\n",
       "<style scoped>\n",
       "    .dataframe tbody tr th:only-of-type {\n",
       "        vertical-align: middle;\n",
       "    }\n",
       "\n",
       "    .dataframe tbody tr th {\n",
       "        vertical-align: top;\n",
       "    }\n",
       "\n",
       "    .dataframe thead th {\n",
       "        text-align: right;\n",
       "    }\n",
       "</style>\n",
       "<table border=\"1\" class=\"dataframe\">\n",
       "  <thead>\n",
       "    <tr style=\"text-align: right;\">\n",
       "      <th></th>\n",
       "      <th>TV</th>\n",
       "      <th>Sales</th>\n",
       "    </tr>\n",
       "  </thead>\n",
       "  <tbody>\n",
       "    <tr>\n",
       "      <th>0</th>\n",
       "      <td>0.969852</td>\n",
       "      <td>1.552053</td>\n",
       "    </tr>\n",
       "    <tr>\n",
       "      <th>1</th>\n",
       "      <td>-1.197376</td>\n",
       "      <td>-0.696046</td>\n",
       "    </tr>\n",
       "    <tr>\n",
       "      <th>2</th>\n",
       "      <td>-1.516155</td>\n",
       "      <td>-0.907406</td>\n",
       "    </tr>\n",
       "    <tr>\n",
       "      <th>3</th>\n",
       "      <td>0.052050</td>\n",
       "      <td>0.860330</td>\n",
       "    </tr>\n",
       "    <tr>\n",
       "      <th>4</th>\n",
       "      <td>0.394182</td>\n",
       "      <td>-0.215683</td>\n",
       "    </tr>\n",
       "    <tr>\n",
       "      <th>...</th>\n",
       "      <td>...</td>\n",
       "      <td>...</td>\n",
       "    </tr>\n",
       "    <tr>\n",
       "      <th>195</th>\n",
       "      <td>-1.270941</td>\n",
       "      <td>-1.234053</td>\n",
       "    </tr>\n",
       "    <tr>\n",
       "      <th>196</th>\n",
       "      <td>-0.617035</td>\n",
       "      <td>-0.830548</td>\n",
       "    </tr>\n",
       "    <tr>\n",
       "      <th>197</th>\n",
       "      <td>0.349810</td>\n",
       "      <td>-0.234898</td>\n",
       "    </tr>\n",
       "    <tr>\n",
       "      <th>198</th>\n",
       "      <td>1.594565</td>\n",
       "      <td>2.205347</td>\n",
       "    </tr>\n",
       "    <tr>\n",
       "      <th>199</th>\n",
       "      <td>0.993206</td>\n",
       "      <td>-0.119610</td>\n",
       "    </tr>\n",
       "  </tbody>\n",
       "</table>\n",
       "<p>200 rows × 2 columns</p>\n",
       "</div>"
      ],
      "text/plain": [
       "           TV     Sales\n",
       "0    0.969852  1.552053\n",
       "1   -1.197376 -0.696046\n",
       "2   -1.516155 -0.907406\n",
       "3    0.052050  0.860330\n",
       "4    0.394182 -0.215683\n",
       "..        ...       ...\n",
       "195 -1.270941 -1.234053\n",
       "196 -0.617035 -0.830548\n",
       "197  0.349810 -0.234898\n",
       "198  1.594565  2.205347\n",
       "199  0.993206 -0.119610\n",
       "\n",
       "[200 rows x 2 columns]"
      ]
     },
     "execution_count": 7,
     "metadata": {},
     "output_type": "execute_result"
    }
   ],
   "source": [
    "advNorm"
   ]
  },
  {
   "cell_type": "code",
   "execution_count": 11,
   "id": "46ea5c1c",
   "metadata": {},
   "outputs": [
    {
     "data": {
      "text/plain": [
       "<AxesSubplot:xlabel='TV', ylabel='Sales'>"
      ]
     },
     "execution_count": 11,
     "metadata": {},
     "output_type": "execute_result"
    },
    {
     "data": {
      "image/png": "[encoded data removed]",
      "text/plain": [
       "<Figure size 640x480 with 1 Axes>"
      ]
     },
     "metadata": {},
     "output_type": "display_data"
    }
   ],
   "source": [
    "advNorm.plot(x='TV',y='Sales',kind='scatter',c='black')\n"
   ]
  },
  {
   "cell_type": "code",
   "execution_count": 15,
   "id": "f2f2fdc2",
   "metadata": {},
   "outputs": [],
   "source": [
    "xNorm=np.array(advNorm['TV']).reshape(1,len(advNorm['TV']))\n",
    "yNorm=np.array(advNorm['Sales']).reshape(1,len(advNorm['Sales']))"
   ]
  },
  {
   "cell_type": "code",
   "execution_count": 16,
   "id": "416fccf5",
   "metadata": {},
   "outputs": [
    {
     "data": {
      "text/plain": [
       "(1, 200)"
      ]
     },
     "execution_count": 16,
     "metadata": {},
     "output_type": "execute_result"
    }
   ],
   "source": [
    "xNorm.shape"
   ]
  },
  {
   "cell_type": "code",
   "execution_count": 19,
   "id": "18dd9b70",
   "metadata": {},
   "outputs": [],
   "source": [
    "def LayerSize(x,y):\n",
    "    ipLayerSize=x.shape[0]\n",
    "    opLayerSize=y.shape[0]\n",
    "    return ipLayerSize,opLayerSize\n",
    "    \n",
    "ipLayerSize,opLayerSize=LayerSize(xNorm,yNorm)\n"
   ]
  },
  {
   "cell_type": "code",
   "execution_count": 25,
   "id": "c4d1b20a",
   "metadata": {},
   "outputs": [],
   "source": [
    "def InitializeParameter(ipLayerSize,opLayerSize):\n",
    "    w=np.random.randn(ipLayerSize,opLayerSize) * 0.01   \n",
    "    \"\"\"Multiplying with 0.01 in order to Initilize with Small No \"\"\"\n",
    "    b=np.zeros((opLayerSize,1))\n",
    "    \n",
    "    param={'w':w,\n",
    "          'b':b}\n",
    "    return param\n",
    "\n",
    "parameters=InitializeParameter(ipLayerSize,opLayerSize)"
   ]
  },
  {
   "cell_type": "code",
   "execution_count": 26,
   "id": "5a700355",
   "metadata": {},
   "outputs": [
    {
     "data": {
      "text/plain": [
       "{'w': array([[0.00508219]]), 'b': array([[0.]])}"
      ]
     },
     "execution_count": 26,
     "metadata": {},
     "output_type": "execute_result"
    }
   ],
   "source": [
    "parameters"
   ]
  },
  {
   "cell_type": "code",
   "execution_count": 34,
   "id": "2de997cd",
   "metadata": {},
   "outputs": [
    {
     "data": {
      "text/plain": [
       "array([ 0.00492897, -0.00608529, -0.00770538,  0.00026453,  0.00200331,\n",
       "       -0.00820981, -0.00531382, -0.00159294, -0.00821574,  0.00313084])"
      ]
     },
     "execution_count": 34,
     "metadata": {},
     "output_type": "execute_result"
    }
   ],
   "source": [
    "def ForwardPropogation(x,parameters): \n",
    "    \"\"\"Dont Confuse With NeuralNetworks,But Just FOr Name Sake,It will Initalize the Linear Eqn with available W and B values ,Which is then Optimized by using Loss Function\"\"\"\n",
    "    \"\"\"But You can link this Function Concept With ForwardPropogation Concept in Neural Network ,Which Inturn will imporve your Intuition \"\"\"\n",
    "    w=parameters['w']\n",
    "    b=parameters['b']\n",
    "    yHat=np.matmul(w,x)+b\n",
    "    return yHat\n",
    "\n",
    "yHat=ForwardPropogation(xNorm,parameters)\n",
    "yHat[0,0:10]"
   ]
  },
  {
   "cell_type": "code",
   "execution_count": 35,
   "id": "ab966615",
   "metadata": {},
   "outputs": [
    {
     "data": {
      "text/plain": [
       "0.49603750371464445"
      ]
     },
     "execution_count": 35,
     "metadata": {},
     "output_type": "execute_result"
    }
   ],
   "source": [
    "\"\"\"Basic Model is There ,Now we are Going to optimize it Using Cost Fuction ,THis is also called Backward Propogation ,Just for your Intuition\"\"\"\n",
    "def CostFunction(y,yHat):\n",
    "    m=yHat.shape[1]\n",
    "    error=np.sum((yHat-y)**2) * 1/(2*m)\n",
    "    return error\n",
    "\n",
    "CostFunction(yNorm,yHat)\n",
    "    "
   ]
  },
  {
   "cell_type": "code",
   "execution_count": 40,
   "id": "918b76a6",
   "metadata": {},
   "outputs": [
    {
     "data": {
      "text/plain": [
       "{'dw': array([[-0.77714224]]), 'db': array([[5.32907052e-16]])}"
      ]
     },
     "execution_count": 40,
     "metadata": {},
     "output_type": "execute_result"
    }
   ],
   "source": [
    "def BackwardPropogation(yHat,y,x):\n",
    "    \"\"\"Optimizing the W and B value using Gradient Descent Algo\"\"\"\n",
    "    m=x.shape[1]\n",
    "    dz=yHat-y\n",
    "    lDerivativewrtW=1/m * np.dot(dz,x.T)\n",
    "    lDerivativewrtb=1/m * np.sum(dz,axis=1,keepdims=True)\n",
    "    resultantGradient={\"dw\":lDerivativewrtW,\n",
    "                      \"db\":lDerivativewrtb}\n",
    "    return resultantGradient\n",
    "\n",
    "updatedGradient=BackwardPropogation(yHat,yNorm,xNorm)\n",
    "updatedGradient\n",
    "\n",
    "\n",
    "    \n",
    "    \n",
    "\n",
    "\n",
    "    "
   ]
  },
  {
   "cell_type": "code",
   "execution_count": 46,
   "id": "5f458cf6",
   "metadata": {},
   "outputs": [],
   "source": [
    "def UpdateParameter(parameters,learningRate,updatedGradient):\n",
    "    w=parameters[\"w\"]\n",
    "    b=parameters[\"b\"]\n",
    "    dw=updatedGradient[\"dw\"]\n",
    "    db=updatedGradient[\"db\"]\n",
    "    w=w- learningRate * dw\n",
    "    b=b-learningRate * db\n",
    "    parameters={\"w\":w\n",
    "               ,\"b\":b}\n",
    "    return parameters\n",
    "\n"
   ]
  },
  {
   "cell_type": "code",
   "execution_count": 52,
   "id": "285c0755",
   "metadata": {},
   "outputs": [],
   "source": [
    "def LinearRegressionModel(x,y,iteration=20,learningRate=0.5,printingCostFunction=True):\n",
    "    sizeX,sizeY=LayerSize(x,y)\n",
    "    parameters=InitializeParameter(sizeX,sizeY)\n",
    "    for i in range(0,iteration):\n",
    "        yHat=ForwardPropogation(x,parameters)\n",
    "        error=CostFunction(y,yHat)\n",
    "        grads=BackwardPropogation(yHat,y,x)\n",
    "        parameters=UpdateParameter(parameters,learningRate,grads)\n",
    "        if printingCostFunction:\n",
    "            print (\"Cost after iteration %i: %f\" %(i, error))\n",
    "\n",
    "    return parameters"
   ]
  },
  {
   "cell_type": "code",
   "execution_count": 53,
   "id": "88f5588b",
   "metadata": {},
   "outputs": [
    {
     "name": "stdout",
     "output_type": "stream",
     "text": [
      "Cost after iteration 0: 0.497190\n",
      "Cost after iteration 1: 0.269844\n",
      "Cost after iteration 2: 0.213008\n",
      "Cost after iteration 3: 0.198799\n",
      "Cost after iteration 4: 0.195247\n",
      "Cost after iteration 5: 0.194358\n",
      "Cost after iteration 6: 0.194136\n",
      "Cost after iteration 7: 0.194081\n",
      "Cost after iteration 8: 0.194067\n",
      "Cost after iteration 9: 0.194064\n",
      "Cost after iteration 10: 0.194063\n",
      "Cost after iteration 11: 0.194063\n",
      "Cost after iteration 12: 0.194062\n",
      "Cost after iteration 13: 0.194062\n",
      "Cost after iteration 14: 0.194062\n",
      "Cost after iteration 15: 0.194062\n",
      "Cost after iteration 16: 0.194062\n",
      "Cost after iteration 17: 0.194062\n",
      "Cost after iteration 18: 0.194062\n",
      "Cost after iteration 19: 0.194062\n"
     ]
    },
    {
     "data": {
      "text/plain": [
       "{'w': array([[0.78222368]]), 'b': array([[-5.92859095e-16]])}"
      ]
     },
     "execution_count": 53,
     "metadata": {},
     "output_type": "execute_result"
    }
   ],
   "source": [
    "LinearRegressionModel(xNorm,yNorm)"
   ]
  },
  {
   "cell_type": "code",
   "execution_count": null,
   "id": "6a0434c9",
   "metadata": {},
   "outputs": [],
   "source": []
  },
  {
   "cell_type": "code",
   "execution_count": null,
   "id": "3b9cea2a",
   "metadata": {},
   "outputs": [],
   "source": []
  },
  {
   "cell_type": "code",
   "execution_count": null,
   "id": "919dfe07",
   "metadata": {},
   "outputs": [],
   "source": []
  }
 ],
 "metadata": {
  "kernelspec": {
   "display_name": "Python 3 (ipykernel)",
   "language": "python",
   "name": "python3"
  },
  "language_info": {
   "codemirror_mode": {
    "name": "ipython",
    "version": 3
   },
   "file_extension": ".py",
   "mimetype": "text/x-python",
   "name": "python",
   "nbconvert_exporter": "python",
   "pygments_lexer": "ipython3",
   "version": "3.9.13"
  }
 },
 "nbformat": 4,
 "nbformat_minor": 5
}
